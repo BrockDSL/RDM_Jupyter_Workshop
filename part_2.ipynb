{
 "cells": [
  {
   "cell_type": "markdown",
   "id": "f00b2636",
   "metadata": {},
   "source": [
    "\n",
    "![dsl_logo](https://github.com/BrockDSL/RDM_Jupyter_Workshop/raw/main/dsl_logo.png)\n",
    "\n",
    "# RDM in Jupyter: The importance of keeping your data reproducible\n",
    "\n",
    "\n",
    "This session will take a deep dive into some research data management best practices when developing in a Jupyter environment. The focus will be on ensuring reproducibility of analysis and bundling up code and data for use by others. This will be examined in two ways: moving your project to Github, and remixing/extending work that already exists. Participants will need a GitHub account for the session that can be created [here](https://github.com/join)."
   ]
  },
  {
   "cell_type": "markdown",
   "id": "b4b17bd9",
   "metadata": {},
   "source": [
    "# Part 2 - Recreating the work from others\n",
    "\n",
    "\n",
    "In this part of the workshop we'll clone someone else's repository to see if we can fix a problem with their results."
   ]
  },
  {
   "cell_type": "markdown",
   "id": "c957a9d6",
   "metadata": {},
   "source": [
    "## Hmmmmm\n",
    "\n",
    "A colleague has told us that there is something fishy in the results reported from a research project they came across...\n",
    "\n",
    "[https://github.com/tribaric/Super_Star_Research](https://github.com/tribaric/Super_Star_Research)\n",
    "\n",
    "Let's have a look at this repository to see if we can spot any problems. Once you are ready to proceed start running the cells below."
   ]
  },
  {
   "cell_type": "code",
   "execution_count": null,
   "id": "a8a4342c",
   "metadata": {},
   "outputs": [],
   "source": [
    "#Libraries to Load\n",
    "\n",
    "#My binder doesnt' seem to have pandas in the base install!\n",
    "#!pip -q install pandas\n",
    "\n",
    "import pandas as pd\n",
    "import matplotlib.pyplot as plt"
   ]
  },
  {
   "cell_type": "markdown",
   "id": "37e84601",
   "metadata": {},
   "source": [
    "## Forking a Repository\n",
    "\n",
    "Our first step is to create a copy of the repository we are interested in:\n",
    "\n",
    "- Navigate to [https://github.com/tribaric/Super_Star_Research](https://github.com/tribaric/Super_Star_Research)\n",
    "- Click the 'Fork' button in the top of the screen and follow the steps to fork.\n",
    "- Just like in part 1 copy the URL of **your** version of the repository and add it into the variable defintion for `github_url` below\n"
   ]
  },
  {
   "cell_type": "code",
   "execution_count": null,
   "id": "0cada80f",
   "metadata": {},
   "outputs": [],
   "source": [
    "#GitHub Configuration\n",
    "gh_username = \"elibtronic\"\n",
    "github_url = \"https://github.com/elibtronic/Super_Star_Research.git\""
   ]
  },
  {
   "cell_type": "markdown",
   "id": "940a7048",
   "metadata": {},
   "source": [
    "## GH Token\n",
    "\n",
    "We also need a GH token to do our work. We can re-use the one from part 1. Paste it in and run the next cell. Full [instructions](https://github.com/BrockDSL/RDM_Jupyter_Workshop/raw/main/Token_instructions.pdf)"
   ]
  },
  {
   "cell_type": "code",
   "execution_count": null,
   "id": "49807631",
   "metadata": {},
   "outputs": [],
   "source": [
    "gh_token = \"\""
   ]
  },
  {
   "cell_type": "markdown",
   "id": "6553c9e6",
   "metadata": {},
   "source": [
    "## GH Branch\n",
    "\n",
    "we will need to **branch** our repository to create our own changes. We'll set the branch name in the `gh_branch` variable. Include something specific to you in the label so we can see it later. Avoid using any spaces or punctuation though. I'm going to call mine: `tim_branch`"
   ]
  },
  {
   "cell_type": "code",
   "execution_count": null,
   "id": "4a6c57b5",
   "metadata": {},
   "outputs": [],
   "source": [
    "\n",
    "gh_branch = \"\"\n",
    "\n",
    "\n",
    "#Some parts we'll need later\n",
    "clone_url = github_url.replace(\"https://\",\"@\")\n",
    "gh_folder = github_url.split(\"/\")[4].split(\".\")[0]"
   ]
  },
  {
   "cell_type": "markdown",
   "id": "f9af9906",
   "metadata": {},
   "source": [
    "## Clone your version of the repository\n",
    "\n",
    "Run the next cell to clone your version of the repository so that you can explore it and modify it."
   ]
  },
  {
   "cell_type": "code",
   "execution_count": null,
   "id": "d2466d69",
   "metadata": {
    "scrolled": true
   },
   "outputs": [],
   "source": [
    "## git init\n",
    "\n",
    "!git clone https://$gh_username:$gh_token$clone_url\n",
    "%cd $gh_folder"
   ]
  },
  {
   "cell_type": "markdown",
   "id": "5ed2dcc0",
   "metadata": {},
   "source": [
    "## Branch work\n",
    "\n",
    "We'll switch to our branch and work within that."
   ]
  },
  {
   "cell_type": "code",
   "execution_count": null,
   "id": "17bac729",
   "metadata": {},
   "outputs": [],
   "source": [
    "!git checkout -b $gh_branch"
   ]
  },
  {
   "cell_type": "markdown",
   "id": "0b4df6f5",
   "metadata": {},
   "source": [
    "## Setting Remote\n",
    "\n",
    "We need to tell GH that we want to connect to the repository we forked this from. Just run the following cell, we don't need to modify anything."
   ]
  },
  {
   "cell_type": "code",
   "execution_count": null,
   "id": "5d92d457",
   "metadata": {},
   "outputs": [],
   "source": [
    "!git remote add upstream https://github.com/tribaric/Super_Star_Research"
   ]
  },
  {
   "cell_type": "code",
   "execution_count": null,
   "id": "752b686b",
   "metadata": {},
   "outputs": [],
   "source": [
    "# One last look at git status.\n",
    "!git status"
   ]
  },
  {
   "cell_type": "markdown",
   "id": "f0de65f8",
   "metadata": {},
   "source": [
    "## Let's investigate\n",
    "\n",
    "We have a feeling that there is some problems with the data and/or the analysis. Let's see what we can find... It looks like the diagram is on the `README` page is incorrect. Let's correct that. The repository has the code used to generate the image. Let's copy that into the next cell and modify it to make sure it is fixed"
   ]
  },
  {
   "cell_type": "code",
   "execution_count": null,
   "id": "78fde550",
   "metadata": {},
   "outputs": [],
   "source": [
    "#this cell will load up the data into a dataframe and display it\n",
    "\n",
    "dataset = pd.read_csv(\"gpt_article_analysis.csv\")\n",
    "dataset"
   ]
  },
  {
   "cell_type": "code",
   "execution_count": null,
   "id": "c32de66b",
   "metadata": {},
   "outputs": [],
   "source": [
    "# Some modifications to the data?\n",
    "# this is the code direct from the bad repository README file\n",
    "# can you modify it so that the graph ends up being correct?\n",
    "\n",
    "labels = ['cnn','cbc','bbc']\n",
    "\n",
    "plt.bar(labels, dataset[\"compound\"])\n",
    "plt.title(\"Sentiment of news sources\")\n",
    "plt.ylabel(\"Score\")\n",
    "plt.xlabel(\"News Source\")\n",
    "plt.savefig(\"graph.png\")\n",
    "plt.show()"
   ]
  },
  {
   "cell_type": "markdown",
   "id": "bdc5d3ac",
   "metadata": {},
   "source": [
    "## Make changes in GH\n",
    "\n",
    "now that we've modified our files we want to stage them in Github"
   ]
  },
  {
   "cell_type": "code",
   "execution_count": null,
   "id": "540eb557",
   "metadata": {},
   "outputs": [],
   "source": [
    "!git status"
   ]
  },
  {
   "cell_type": "code",
   "execution_count": null,
   "id": "557d14d2",
   "metadata": {},
   "outputs": [],
   "source": [
    "!git add .\n",
    "!git status"
   ]
  },
  {
   "cell_type": "markdown",
   "id": "d61ddca3",
   "metadata": {},
   "source": [
    "## Pull Request to Github\n",
    "\n",
    "Now that we've indentifed the problem we want to create a **pull request** to correct the original repository. We just need to complete the repository update and complete the pull request in the GH web interface."
   ]
  },
  {
   "cell_type": "code",
   "execution_count": null,
   "id": "29ab158d",
   "metadata": {},
   "outputs": [],
   "source": [
    "#Set Commit Message\n",
    "\n",
    "commit_message = \"\"\"\n",
    "\n",
    "\n",
    "\"\"\""
   ]
  },
  {
   "cell_type": "code",
   "execution_count": null,
   "id": "d860def2",
   "metadata": {},
   "outputs": [],
   "source": [
    "!git commit -am \"$commit_message\"\n"
   ]
  },
  {
   "cell_type": "code",
   "execution_count": null,
   "id": "8ae54011",
   "metadata": {},
   "outputs": [],
   "source": [
    "#!git push $github_url\n",
    "!git push -u origin $gh_branch"
   ]
  }
 ],
 "metadata": {
  "kernelspec": {
   "display_name": "Python 3 (ipykernel)",
   "language": "python",
   "name": "python3"
  },
  "language_info": {
   "codemirror_mode": {
    "name": "ipython",
    "version": 3
   },
   "file_extension": ".py",
   "mimetype": "text/x-python",
   "name": "python",
   "nbconvert_exporter": "python",
   "pygments_lexer": "ipython3",
   "version": "3.9.13"
  }
 },
 "nbformat": 4,
 "nbformat_minor": 5
}
