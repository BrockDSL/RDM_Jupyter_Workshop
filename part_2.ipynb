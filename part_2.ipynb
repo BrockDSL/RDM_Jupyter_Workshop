{
 "cells": [
  {
   "cell_type": "markdown",
   "id": "f00b2636",
   "metadata": {},
   "source": [
    "\n",
    "![dsl_logo](https://github.com/BrockDSL/RDM_Jupyter_Workshop/raw/main/dsl_logo.png)\n",
    "\n",
    "# RDM in Jupyter: The importance of keeping your data reproducible\n",
    "\n",
    "\n",
    "This session will take a deep dive into some research data management best practices when developing in a Jupyter environment. The focus will be on ensuring reproducibility of analysis and bundling up code and data for use by others. This will be examined in two ways: moving your project to Github, and remixing/extending work that already exists. Participants will need a GitHub account for the session that can be created [here](https://github.com/join)."
   ]
  },
  {
   "cell_type": "markdown",
   "id": "b4b17bd9",
   "metadata": {},
   "source": [
    "# Part 2 - Recreating the work from others\n",
    "\n",
    "\n",
    "In this part of the workshop we'll clone someone else's repository to see if we can recreate / verify their results"
   ]
  },
  {
   "cell_type": "code",
   "execution_count": null,
   "id": "a8a4342c",
   "metadata": {},
   "outputs": [],
   "source": [
    "#Libraries to Load\n",
    "\n",
    "#My binder doesnt' seem to have pandas in the base install!\n",
    "#!pip -q install pandas\n",
    "\n",
    "import pandas as pd"
   ]
  },
  {
   "cell_type": "markdown",
   "id": "ca939457",
   "metadata": {},
   "source": [
    "## Forking a Repository\n",
    "\n",
    "Our first step is to create a copy of the repository we are interested in:\n",
    "\n",
    "- Navigate to [https://github.com/tribaric/Super_Star_Research](https://github.com/tribaric/Super_Star_Research)\n",
    "- Click the 'Fork' button in the top of the screen and follow the steps to fork.\n",
    "- Just like in part 1 copy the URL of **your** version of the repository and add it into the variable defintion for `github_url` below\n",
    "\n",
    "\n",
    "We also need to create a new token so that we can use it to make **pull** requests. Add that into the code cell below.\n"
   ]
  },
  {
   "cell_type": "code",
   "execution_count": null,
   "id": "4a6c57b5",
   "metadata": {},
   "outputs": [],
   "source": [
    "#GitHub Configuration\n",
    "gh_username = \"elibtronic\"\n",
    "github_url = \"https://github.com/elibtronic/Super_Star_Research.git\"\n",
    "\n",
    "gh_token = \"\"\n",
    "\n",
    "#Some parts we'll need later\n",
    "clone_url = github_url.replace(\"https://\",\"@\")\n",
    "gh_folder = github_url.split(\"/\")[4].split(\".\")[0]"
   ]
  },
  {
   "cell_type": "markdown",
   "id": "f9af9906",
   "metadata": {},
   "source": [
    "## Clone your version of the repository\n",
    "\n",
    "Run the next cell to clone your version of the repository so that you can explore it and modify it."
   ]
  },
  {
   "cell_type": "code",
   "execution_count": null,
   "id": "d2466d69",
   "metadata": {
    "scrolled": true
   },
   "outputs": [],
   "source": [
    "## git init\n",
    "\n",
    "!git clone https://$gh_username:$gh_token$clone_url"
   ]
  },
  {
   "cell_type": "markdown",
   "id": "4e5e6365",
   "metadata": {},
   "source": [
    "## Let's investigate\n",
    "\n",
    "We have a feeling that there is some problems with the data and/or the analysis. Let's see what we can find..."
   ]
  },
  {
   "cell_type": "code",
   "execution_count": null,
   "id": "937f7d8b",
   "metadata": {},
   "outputs": [],
   "source": [
    "# Some modifications to the data?"
   ]
  },
  {
   "cell_type": "markdown",
   "id": "bdc5d3ac",
   "metadata": {},
   "source": [
    "## Make changes in GH\n",
    "\n",
    "now that we've modified our files we want to stage them in Github"
   ]
  },
  {
   "cell_type": "code",
   "execution_count": null,
   "id": "540eb557",
   "metadata": {},
   "outputs": [],
   "source": [
    "!git status"
   ]
  },
  {
   "cell_type": "code",
   "execution_count": null,
   "id": "557d14d2",
   "metadata": {},
   "outputs": [],
   "source": [
    "!git add .\n",
    "!git status"
   ]
  },
  {
   "cell_type": "markdown",
   "id": "d61ddca3",
   "metadata": {},
   "source": [
    "## Pull Request to Github\n",
    "\n",
    "Now that we've indentifed the problem we want to create a **pull request** to correct the original author."
   ]
  },
  {
   "cell_type": "code",
   "execution_count": null,
   "id": "29ab158d",
   "metadata": {},
   "outputs": [],
   "source": [
    "#Set Commit Message\n",
    "\n",
    "commit_message = \"\"\"\n",
    "\n",
    "first commit\n",
    "\n",
    "\"\"\""
   ]
  },
  {
   "cell_type": "code",
   "execution_count": null,
   "id": "d860def2",
   "metadata": {},
   "outputs": [],
   "source": [
    "!git commit -am \"$commit_message\"\n",
    "!git push $github_url"
   ]
  }
 ],
 "metadata": {
  "kernelspec": {
   "display_name": "Python 3 (ipykernel)",
   "language": "python",
   "name": "python3"
  },
  "language_info": {
   "codemirror_mode": {
    "name": "ipython",
    "version": 3
   },
   "file_extension": ".py",
   "mimetype": "text/x-python",
   "name": "python",
   "nbconvert_exporter": "python",
   "pygments_lexer": "ipython3",
   "version": "3.9.13"
  }
 },
 "nbformat": 4,
 "nbformat_minor": 5
}
