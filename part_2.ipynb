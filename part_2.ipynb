{
 "cells": [
  {
   "cell_type": "markdown",
   "id": "f00b2636",
   "metadata": {},
   "source": [
    "\n",
    "![dsl_logo](https://github.com/BrockDSL/RDM_Jupyter_Workshop/raw/main/dsl_logo.png)\n",
    "\n",
    "# RDM in Jupyter: The importance of keeping your data reproducible\n",
    "\n",
    "\n",
    "This session will take a deep dive into some research data management best practices when developing in a Jupyter environment. The focus will be on ensuring reproducibility of analysis and bundling up code and data for use by others. This will be examined in two ways: moving your project to Github, and remixing/extending work that already exists. Participants will need a GitHub account for the session that can be created [here](https://github.com/join)."
   ]
  },
  {
   "cell_type": "markdown",
   "id": "b4b17bd9",
   "metadata": {},
   "source": [
    "# Part 2 - Recreating the work from others\n",
    "\n",
    "\n",
    "In this part of the workshop we'll clone someone else's repository to see if we can recreate / verify their results"
   ]
  },
  {
   "cell_type": "code",
   "execution_count": null,
   "id": "a8a4342c",
   "metadata": {},
   "outputs": [],
   "source": [
    "#Libraries to Load\n",
    "\n",
    "import pandas as pd"
   ]
  },
  {
   "cell_type": "markdown",
   "id": "f140c32d",
   "metadata": {},
   "source": [
    "## Configuring Github\n",
    "\n",
    "Just like we did in part 1, we'll need a Github token. Let's just re-use that one."
   ]
  },
  {
   "cell_type": "code",
   "execution_count": null,
   "id": "5bfc0ec1",
   "metadata": {},
   "outputs": [],
   "source": [
    "#GitHub Configuration\n",
    "gh_username = \"elibtronic\"\n",
    "github_url = \"https://github.com/elibtronic/rdm_workshop.git\"\n",
    "gh_token = \"\"\n",
    "\n",
    "\n",
    "#Some parts we'll need later\n",
    "clone_url = github_url.replace(\"https://\",\"@\")\n",
    "gh_folder = github_url.split(\"/\")[4].split(\".\")[0]"
   ]
  },
  {
   "cell_type": "code",
   "execution_count": null,
   "id": "45ff5ba4",
   "metadata": {},
   "outputs": [],
   "source": [
    "#Forking a repo from tribaric"
   ]
  },
  {
   "cell_type": "code",
   "execution_count": 1,
   "id": "54b1e54b",
   "metadata": {},
   "outputs": [],
   "source": [
    "#Analyzing the results"
   ]
  },
  {
   "cell_type": "code",
   "execution_count": null,
   "id": "b54ecd45",
   "metadata": {},
   "outputs": [],
   "source": [
    "#staging results"
   ]
  },
  {
   "cell_type": "code",
   "execution_count": 2,
   "id": "65e194e9",
   "metadata": {},
   "outputs": [],
   "source": [
    "#Submitting Pull Request"
   ]
  },
  {
   "cell_type": "markdown",
   "id": "f9af9906",
   "metadata": {},
   "source": [
    "## Cloning Your Repository"
   ]
  },
  {
   "cell_type": "code",
   "execution_count": null,
   "id": "d2466d69",
   "metadata": {
    "scrolled": true
   },
   "outputs": [],
   "source": [
    "## git init\n",
    "\n",
    "!git clone https://$gh_username:$gh_token$clone_url"
   ]
  },
  {
   "cell_type": "markdown",
   "id": "171854af",
   "metadata": {},
   "source": [
    "## Getting your Data Ready"
   ]
  },
  {
   "cell_type": "code",
   "execution_count": null,
   "id": "d1ea20ca",
   "metadata": {
    "scrolled": true
   },
   "outputs": [],
   "source": [
    "#Run this cell to automatically download a CSV file of 'data' that we'll modify\n",
    "%cd $gh_folder\n",
    "!wget https://borealisdata.ca/api/access/datafile/75156\n",
    "!mv 75156 data_set.csv"
   ]
  },
  {
   "cell_type": "code",
   "execution_count": null,
   "id": "0e109b24",
   "metadata": {
    "scrolled": true
   },
   "outputs": [],
   "source": [
    "#Load our dataset\n",
    "data_set = pd.read_csv(\"data_set.csv\",delimiter=\"\\t\")\n",
    "data_set.describe()"
   ]
  },
  {
   "cell_type": "code",
   "execution_count": null,
   "id": "6082b7ca",
   "metadata": {},
   "outputs": [],
   "source": [
    "#Modify the data somehow?"
   ]
  },
  {
   "cell_type": "markdown",
   "id": "bdc5d3ac",
   "metadata": {},
   "source": [
    "## Staging in Github\n",
    "\n",
    "now that we've modified our files we want to stage them in Github"
   ]
  },
  {
   "cell_type": "code",
   "execution_count": null,
   "id": "540eb557",
   "metadata": {},
   "outputs": [],
   "source": [
    "!git status"
   ]
  },
  {
   "cell_type": "code",
   "execution_count": null,
   "id": "557d14d2",
   "metadata": {},
   "outputs": [],
   "source": [
    "!git add .\n",
    "!git status"
   ]
  },
  {
   "cell_type": "markdown",
   "id": "d61ddca3",
   "metadata": {},
   "source": [
    "## Pushing to Github\n",
    "\n",
    "Now that we've indentifed the problem we want to create a **pull request** to correct the original author"
   ]
  },
  {
   "cell_type": "code",
   "execution_count": null,
   "id": "29ab158d",
   "metadata": {},
   "outputs": [],
   "source": [
    "#Set Commit Message\n",
    "\n",
    "commit_message = \"\"\"\n",
    "\n",
    "first commit\n",
    "\n",
    "\"\"\""
   ]
  },
  {
   "cell_type": "code",
   "execution_count": null,
   "id": "d860def2",
   "metadata": {},
   "outputs": [],
   "source": [
    "!git commit -am \"$commit_message\"\n",
    "!git push $github_url"
   ]
  }
 ],
 "metadata": {
  "kernelspec": {
   "display_name": "Python 3 (ipykernel)",
   "language": "python",
   "name": "python3"
  },
  "language_info": {
   "codemirror_mode": {
    "name": "ipython",
    "version": 3
   },
   "file_extension": ".py",
   "mimetype": "text/x-python",
   "name": "python",
   "nbconvert_exporter": "python",
   "pygments_lexer": "ipython3",
   "version": "3.9.13"
  }
 },
 "nbformat": 4,
 "nbformat_minor": 5
}
