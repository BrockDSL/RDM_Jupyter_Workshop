{
 "cells": [
  {
   "cell_type": "markdown",
   "id": "f00b2636",
   "metadata": {},
   "source": [
    "\n",
    "![dsl_logo](https://github.com/BrockDSL/RDM_Jupyter_Workshop/raw/main/dsl_logo.png)\n",
    "\n",
    "# RDM in Jupyter: The importance of keeping your data reproducible\n",
    "\n",
    "\n",
    "This session will take a deep dive into some research data management best practices when developing in a Jupyter environment. The focus will be on ensuring reproducibility of analysis and bundling up code and data for use by others. This will be examined in two ways: moving your project to Github, and remixing/extending work that already exists. Participants will need a GitHub account for the session that can be created [here](https://github.com/join)."
   ]
  },
  {
   "cell_type": "markdown",
   "id": "a9923084",
   "metadata": {},
   "source": [
    "# First a word...\n",
    "\n",
    "As we've discovered Jupyter is a wonderful environment that allows us to create a _virtual machine_ that emulates a Linux environment pretty well. Notebooks themselves are pretty much just HTML pages that show us the results of code and shell execution.\n",
    "\n",
    "We are going to rely on that for the two parts of this workshop. We are just going to be hitting the run button in some pre-made cells (with some modifications) but in practice you could probably fire up a terminal window in your environment and run some scripts that will accomplish these steps."
   ]
  },
  {
   "cell_type": "markdown",
   "id": "fd5eb833",
   "metadata": {},
   "source": [
    "## Loading in our Libraries\n",
    "\n",
    "I like to put these in their own cell right off the bat."
   ]
  },
  {
   "cell_type": "code",
   "execution_count": null,
   "id": "a8a4342c",
   "metadata": {},
   "outputs": [],
   "source": [
    "# Run this cell load libraries\n",
    "\n",
    "#my binder doesn't have pandas out of the box, so we'll load it up\n",
    "#!pip -q install pandas\n",
    "\n",
    "import requests\n",
    "import pandas as pd\n",
    "import matplotlib.pyplot as plt\n",
    "from bs4 import BeautifulSoup\n",
    "from textblob import TextBlob\n",
    "from nltk.sentiment.vader import SentimentIntensityAnalyzer\n",
    "import warnings\n"
   ]
  },
  {
   "cell_type": "markdown",
   "id": "f17c7ea1",
   "metadata": {},
   "source": [
    "## Functions\n",
    "\n",
    "The cell below has the function that will be our workhorse. It will the contents of URLs and just keep the text, stripping off the HTML tags."
   ]
  },
  {
   "cell_type": "code",
   "execution_count": null,
   "id": "b6692411",
   "metadata": {},
   "outputs": [],
   "source": [
    "\n",
    "#some settings we'll use later\n",
    "warnings.simplefilter(action='ignore', category=FutureWarning)\n",
    "sid = SentimentIntensityAnalyzer()\n",
    "\n",
    "# Helper Function that will fetch content for us from a URL and score it\n",
    "# Uses VADER sentiment analysis\n",
    "def process_url(url):\n",
    "    \n",
    "    res = requests.get(url)\n",
    "    html_page = res.content\n",
    "    soup = BeautifulSoup(html_page, 'html.parser')\n",
    "    text = soup.find_all(text=True)\n",
    "\n",
    "    output = ''\n",
    "    blacklist = [\n",
    "        '[document]',\n",
    "        'noscript',\n",
    "        'header',\n",
    "        'html',\n",
    "        'meta',\n",
    "        'head', \n",
    "        'input',\n",
    "        'script',\n",
    "    ]\n",
    "\n",
    "    for t in text:\n",
    "        if t.parent.name not in blacklist:\n",
    "            output += '{} '.format(t)\n",
    "        \n",
    "    score = sid.polarity_scores(output)\n",
    "    return [url, score['neg'], score['neu'], score['pos'], score['compound']]"
   ]
  },
  {
   "cell_type": "markdown",
   "id": "3ca2aec4",
   "metadata": {},
   "source": [
    "## The plan\n",
    "\n",
    "For this part of the workshop we are going to:\n",
    "- generate a data set\n",
    " - identify a list of urls we are interested in\n",
    " - score their sentiment with VADER\n",
    "- create a data log book that describes the date\n",
    "- create a README file describing our project\n",
    "- save our data set to GitHub\n",
    "- modify our data set in GitHub by adding to it"
   ]
  },
  {
   "cell_type": "markdown",
   "id": "79ae1ee6",
   "metadata": {},
   "source": [
    "## Github Prep\n",
    "\n",
    "Let's start by getting the GitHub sides of things done. We need to do two things:\n",
    "\n",
    "- Create a repository for our material. We'll be using the Github web interface for this\n",
    "- Create a GitHub security token. We'll also be using the Github web interface for this"
   ]
  },
  {
   "cell_type": "markdown",
   "id": "66359a4d",
   "metadata": {},
   "source": [
    "### Create a Repository\n",
    "\n",
    "First create a [new repository](https://github.com/new) and put the URL in the box variable below"
   ]
  },
  {
   "cell_type": "code",
   "execution_count": null,
   "id": "99ebff5f",
   "metadata": {},
   "outputs": [],
   "source": [
    "gh_username = \"elibtronic\"\n",
    "github_url = \"https://github.com/elibtronic/rdm_workshop.git\"\n",
    "\n",
    "\n",
    "#Some parts we'll need later\n",
    "clone_url = github_url.replace(\"https://\",\"@\")\n",
    "gh_folder = github_url.split(\"/\")[4].split(\".\")[0]"
   ]
  },
  {
   "cell_type": "markdown",
   "id": "c10627bd",
   "metadata": {},
   "source": [
    "### Create a token\n",
    "\n",
    "You'll need to first configure a [Github Token](https://github.com/settings/personal-access-tokens/new). Be sure to configure it so that it only works against the repository you just created."
   ]
  },
  {
   "cell_type": "code",
   "execution_count": null,
   "id": "6f60a08a",
   "metadata": {},
   "outputs": [],
   "source": [
    "gh_username = \"elibtronic\"\n",
    "gh_token = \"\""
   ]
  },
  {
   "cell_type": "markdown",
   "id": "6cd9a6c3",
   "metadata": {},
   "source": [
    "\n",
    "# Connect our repository\n",
    "\n",
    "Now that the repository is created we want to **clone** it into our current Jupyter environment. Once that is done we can add files to it, and **push** the changes back to GitHub. "
   ]
  },
  {
   "cell_type": "markdown",
   "id": "f9af9906",
   "metadata": {},
   "source": [
    "### Cloning Your Repository"
   ]
  },
  {
   "cell_type": "code",
   "execution_count": null,
   "id": "d2466d69",
   "metadata": {
    "scrolled": true
   },
   "outputs": [],
   "source": [
    "!git clone https://$gh_username:$gh_token$clone_url\n",
    "%cd $gh_folder\n",
    "!ls -lah"
   ]
  },
  {
   "cell_type": "markdown",
   "id": "2a935563",
   "metadata": {},
   "source": [
    "## Generating your Data\n",
    "\n",
    "Add in as many URLs following the pattern show here. Basically keep them inside quotes and follow it with a comma. This will be the urls we are going to analyze. I'm doing some work on news articles that talk about ChatGPT."
   ]
  },
  {
   "cell_type": "code",
   "execution_count": null,
   "id": "ae543a2b",
   "metadata": {},
   "outputs": [],
   "source": [
    "url_list = [\n",
    "    \"https://www.cbc.ca/news/canada/new-brunswick/chatgpt-academia-cybersecurity-1.6733202\",\n",
    "    \"https://www.cbc.ca/news/canada/hamilton/chatgpt-school-cheating-1.6734580\",\n",
    "]"
   ]
  },
  {
   "cell_type": "markdown",
   "id": "e032e45c",
   "metadata": {},
   "source": [
    "The next cell will harvest the URLs in the list above, score them using [VADER](https://medium.com/@piocalderon/vader-sentiment-analysis-explained-f1c4f9101cd9) and then create a Pandas Dataframe with the results. VADER returns three scores as we will see."
   ]
  },
  {
   "cell_type": "code",
   "execution_count": null,
   "id": "4db8272a",
   "metadata": {},
   "outputs": [],
   "source": [
    "# Create Data Frame\n",
    "\n",
    "data = pd.DataFrame()\n",
    "\n",
    "for url in url_list:\n",
    "    print(\"processing... \", url)\n",
    "    try:\n",
    "        result = process_url(url)\n",
    "        data = data.append(pd.DataFrame(result).T)\n",
    "    except:\n",
    "        print(\"Couldn't download URL\")\n",
    "\n",
    "data.columns = [\"url\",\"neg\",\"neu\",\"pos\",\"compound\"]\n",
    "data.reset_index()\n",
    "print(\"Done\")"
   ]
  },
  {
   "cell_type": "markdown",
   "id": "93a663c5",
   "metadata": {},
   "source": [
    "### Data so far\n",
    "\n",
    "Run the next cell to print out the dataframe to screen."
   ]
  },
  {
   "cell_type": "code",
   "execution_count": null,
   "id": "a83fa5fe",
   "metadata": {},
   "outputs": [],
   "source": [
    "data"
   ]
  },
  {
   "cell_type": "markdown",
   "id": "aa4caab5",
   "metadata": {},
   "source": [
    "### Analyze\n",
    "\n",
    "Visualizations are cool... Let's make a simple graph of average scores"
   ]
  },
  {
   "cell_type": "code",
   "execution_count": null,
   "id": "040328ec",
   "metadata": {},
   "outputs": [],
   "source": [
    "avg_neg = data['neg'].mean()\n",
    "avg_neu = data['neu'].mean()\n",
    "avg_pos = data['pos'].mean()\n",
    "\n",
    "plt.pie([avg_neg,avg_neu,avg_pos], labels = [\"Negative Scores\", \"Neutral Scores\", \"Postive Scores\"])\n",
    "plt.title(\"Average Scores per column\")\n",
    "plt.show()"
   ]
  },
  {
   "cell_type": "markdown",
   "id": "b39af8fd",
   "metadata": {},
   "source": [
    "## Save our Data\n",
    "\n",
    "Now that we have a dataset that we built from scratch let's turn it into a CSV file so that we can put it into our repository"
   ]
  },
  {
   "cell_type": "code",
   "execution_count": null,
   "id": "efda6f67",
   "metadata": {},
   "outputs": [],
   "source": [
    "#Write-out dataframe to CSV file\n",
    "data.to_csv(\"url_data.csv\", index=False)\n",
    "!ls -lah"
   ]
  },
  {
   "cell_type": "markdown",
   "id": "374ef1e7",
   "metadata": {},
   "source": [
    "### Codebook\n",
    "\n",
    "Modify the text that is between the `\"\"\"` and `\"\"\"` areas to create your code book. Describe what each column of the CSV file will do.\n",
    "\n",
    "Once your run the cell it will save your results into a text file that we will add to our repository."
   ]
  },
  {
   "cell_type": "code",
   "execution_count": null,
   "id": "0d57c42e",
   "metadata": {},
   "outputs": [],
   "source": [
    "#Generate codebook\n",
    "\n",
    "data_code_book = \"\"\"\n",
    "\n",
    "Column of the data are:\n",
    "\n",
    "xxx -\n",
    "xxx - \n",
    "xxx -\n",
    "xxx -\n",
    "\n",
    "\"\"\"\n",
    "\n",
    "\n",
    "with open(\"data_code_book.txt\",\"w\") as data_code_book_file:\n",
    "    data_code_book_file.writelines(data_code_book)"
   ]
  },
  {
   "cell_type": "markdown",
   "id": "d1f550c4",
   "metadata": {},
   "source": [
    "### Readme\n",
    "\n",
    "\n",
    "Modify the text that is between the `\"\"\"` and `\"\"\"` areas to create a README file for your project. If you know Markdown feel free to use that.\n",
    "\n",
    "Once your run the cell it will save your results into a text file that we will add to our repository."
   ]
  },
  {
   "cell_type": "code",
   "execution_count": null,
   "id": "4d07cec5",
   "metadata": {},
   "outputs": [],
   "source": [
    "#Generate README.md\n",
    "\n",
    "readme = \"\"\"\n",
    "\n",
    "# RDM Test dataset\n",
    "\n",
    "This is a pretend dataset that I've created for a workshop\n",
    "\n",
    "\"\"\"\n",
    "\n",
    "with open(\"README.md\",\"w\") as readme_file:\n",
    "    readme_file.writelines(readme)"
   ]
  },
  {
   "cell_type": "markdown",
   "id": "c97351fd",
   "metadata": {},
   "source": [
    "### Last peek\n",
    "\n",
    "Run the next cell to look at our project files one last time."
   ]
  },
  {
   "cell_type": "code",
   "execution_count": null,
   "id": "524e736a",
   "metadata": {},
   "outputs": [],
   "source": [
    "#last look at our files\n",
    "\n",
    "!pwd\n",
    "!ls -lh"
   ]
  },
  {
   "cell_type": "markdown",
   "id": "bdc5d3ac",
   "metadata": {},
   "source": [
    "## Staging in Github\n",
    "\n",
    "Now that we've modified our files we want to stage them in Github. That is two stage process."
   ]
  },
  {
   "cell_type": "code",
   "execution_count": null,
   "id": "540eb557",
   "metadata": {
    "scrolled": true
   },
   "outputs": [],
   "source": [
    "!git status"
   ]
  },
  {
   "cell_type": "code",
   "execution_count": null,
   "id": "557d14d2",
   "metadata": {},
   "outputs": [],
   "source": [
    "#We 'add' all the files that we have been working on into the repository\n",
    "!git add data_code_book.txt\n",
    "!git add url_data.csv\n",
    "!git add README.md\n",
    "!git status"
   ]
  },
  {
   "cell_type": "markdown",
   "id": "d61ddca3",
   "metadata": {},
   "source": [
    "## Pushing to Github\n",
    "\n",
    "We have now staged our files, we just need to push them. to finalize our git commit we'll add a comment. As before add some text between the `\"\"\"` and `\"\"\"` areas."
   ]
  },
  {
   "cell_type": "code",
   "execution_count": null,
   "id": "29ab158d",
   "metadata": {},
   "outputs": [],
   "source": [
    "#Set Commit Message\n",
    "\n",
    "commit_message = \"\"\"\n",
    "\n",
    "A commit message is usually a simple description of what changed in the repository.\n",
    "\n",
    "\"\"\""
   ]
  },
  {
   "cell_type": "markdown",
   "id": "635eac21",
   "metadata": {},
   "source": [
    "## Did it work?\n",
    "\n",
    "Run the following cell and go check your repository in the web interface of GitHub, it should have some files and a commit associated with them."
   ]
  },
  {
   "cell_type": "code",
   "execution_count": null,
   "id": "d860def2",
   "metadata": {},
   "outputs": [],
   "source": [
    "!git commit -am \"$commit_message\"\n",
    "!git push $github_url"
   ]
  },
  {
   "cell_type": "markdown",
   "id": "9cadd7af",
   "metadata": {},
   "source": [
    "## Do it again!\n",
    "\n",
    "Return to the cell right after **Generating Your Data** and add a couple of urls to the list. Re-run all the following cells and see if you can commit an updated dataset to your repository!"
   ]
  },
  {
   "cell_type": "markdown",
   "id": "aa1229d1",
   "metadata": {},
   "source": [
    "# End of Part 1\n",
    "\n",
    "I hope this section of the workshop has highlighted the need of proper RDM practices to make sure your data is safely tracked and available to others who wish to replicate your findings. In part 2 we'll modify someone else's code and analysis to demonstrate how we can move the scholarly conversation along."
   ]
  }
 ],
 "metadata": {
  "kernelspec": {
   "display_name": "Python 3 (ipykernel)",
   "language": "python",
   "name": "python3"
  },
  "language_info": {
   "codemirror_mode": {
    "name": "ipython",
    "version": 3
   },
   "file_extension": ".py",
   "mimetype": "text/x-python",
   "name": "python",
   "nbconvert_exporter": "python",
   "pygments_lexer": "ipython3",
   "version": "3.9.13"
  }
 },
 "nbformat": 4,
 "nbformat_minor": 5
}
