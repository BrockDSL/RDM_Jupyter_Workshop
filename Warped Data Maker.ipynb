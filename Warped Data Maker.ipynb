{
 "cells": [
  {
   "cell_type": "code",
   "execution_count": null,
   "id": "5e1c622b",
   "metadata": {},
   "outputs": [],
   "source": [
    "#https://github.com/tribaric/Super_Star_Research\n",
    "\n",
    "import pandas as pd\n",
    "import matplotlib.pyplot as plt"
   ]
  },
  {
   "cell_type": "code",
   "execution_count": null,
   "id": "6c1343d5",
   "metadata": {},
   "outputs": [],
   "source": [
    "dataset = pd.read_csv(\"gpt_article_analysis.csv\")\n",
    "print(dataset.to_markdown())"
   ]
  },
  {
   "cell_type": "code",
   "execution_count": null,
   "id": "3a680aa3",
   "metadata": {},
   "outputs": [],
   "source": [
    "#generate bad graph...? and write to file\n",
    "\n",
    "labels = ['cnn','cbc','bbc']\n",
    "\n",
    "plt.bar(labels, dataset[\"compound\"])\n",
    "plt.title(\"Sentiment of news sources\")\n",
    "plt.ylabel(\"Score\")\n",
    "plt.xlabel(\"News Source\")\n",
    "plt.savefig(\"graph.png\")\n",
    "plt.show()"
   ]
  },
  {
   "cell_type": "code",
   "execution_count": null,
   "id": "0b096071",
   "metadata": {},
   "outputs": [],
   "source": []
  }
 ],
 "metadata": {
  "kernelspec": {
   "display_name": "Python 3 (ipykernel)",
   "language": "python",
   "name": "python3"
  },
  "language_info": {
   "codemirror_mode": {
    "name": "ipython",
    "version": 3
   },
   "file_extension": ".py",
   "mimetype": "text/x-python",
   "name": "python",
   "nbconvert_exporter": "python",
   "pygments_lexer": "ipython3",
   "version": "3.9.13"
  }
 },
 "nbformat": 4,
 "nbformat_minor": 5
}
