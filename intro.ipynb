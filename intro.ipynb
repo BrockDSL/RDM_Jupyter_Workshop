{
 "cells": [
  {
   "cell_type": "markdown",
   "id": "f00b2636",
   "metadata": {},
   "source": [
    "\n",
    "![dsl_logo](https://github.com/BrockDSL/RDM_Jupyter_Workshop/raw/main/dsl_logo.png)\n",
    "\n",
    "# RDM in Jupyter: The importance of keeping your data reproducible\n",
    "\n",
    "\n",
    "This session will take a deep dive into some research data management best practices when developing in a Jupyter environment. The focus will be on ensuring reproducibility of analysis and bundling up code and data for use by others. This will be examined in two ways: moving your project to Github, and remixing/extending work that already exists. Participants will need a GitHub account for the session that can be created [here](https://github.com/join)."
   ]
  },
  {
   "cell_type": "markdown",
   "id": "9b3cca5d",
   "metadata": {},
   "source": [
    "## What is RDM?\n",
    "\n",
    "Let's take 2 min to fill in a survey about our understanding of RDM. Then I'll present what RDM means to me in this context.\n",
    "\n",
    "[Survey](https://forms.gle/nKy4BZ36upzHW7Jy8)"
   ]
  },
  {
   "cell_type": "markdown",
   "id": "b4b17bd9",
   "metadata": {},
   "source": [
    "## In the Computation Content?\n",
    "\n",
    "RDM means many things to many different people. It is becoming an expansive idea with reach into many different disciplines and stages of the research lifecycle. I'll just focus on the following diagram:\n",
    "\n",
    "![RDM Lifecycle](https://raw.githubusercontent.com/BrockDSL/RDM_Jupyter_Workshop/main/RDM_Lifecycle_Moon.png)\n",
    "\n",
    "(With great thanks for Jeff Moon for providing a great presentation on the topic, link below)"
   ]
  },
  {
   "cell_type": "markdown",
   "id": "1d280d19",
   "metadata": {},
   "source": [
    "\n",
    "## For us...\n",
    "\n",
    "\n",
    "Funding organizations are starting to require RDM components as part of grant applications. This (to me) will be the biggest driver of RDM best practices. However it is good to keep an eye to this type of stuff as it helps with:\n",
    "\n",
    "- Preservation\n",
    "- Reproducibility\n",
    "\n",
    "These two motivations will be what guides us for the remaining parts of this workshop"
   ]
  },
  {
   "cell_type": "markdown",
   "id": "61cb2cf1",
   "metadata": {},
   "source": [
    "## Resources\n",
    "\n",
    "[The Current State of Research Data_Management in Canada](https://alliancecan.ca/sites/default/files/2022-03/rdm_current_state_report-1_1.pdf) - Report from 2020 outlining current landscape.\n",
    "\n",
    "\n",
    "[Research Data Management - Digital Research Alliance of Canada](https://alliancecan.ca/en/services/research-data-management) - Rundown of considerations and facts DRAC provides for RDM. Particularly useful for us doing computation based research.\n",
    "\n",
    "\n",
    "[How Research Data Management(RDM) Interacts with ARC and Why Should I Care?](https://www.youtube.com/watch?v=LPyHrUBuE6Q&list=WL&index=56) - Video from Jeff Moon from Compute Ontario. Outlines RDM practices specific to HPC, also useful for scholars to do computational work on smaller scales."
   ]
  }
 ],
 "metadata": {
  "kernelspec": {
   "display_name": "Python 3 (ipykernel)",
   "language": "python",
   "name": "python3"
  },
  "language_info": {
   "codemirror_mode": {
    "name": "ipython",
    "version": 3
   },
   "file_extension": ".py",
   "mimetype": "text/x-python",
   "name": "python",
   "nbconvert_exporter": "python",
   "pygments_lexer": "ipython3",
   "version": "3.9.13"
  }
 },
 "nbformat": 4,
 "nbformat_minor": 5
}
