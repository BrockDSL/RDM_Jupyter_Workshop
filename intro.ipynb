{
 "cells": [
  {
   "cell_type": "markdown",
   "id": "f00b2636",
   "metadata": {},
   "source": [
    "\n",
    "![dsl_logo](https://github.com/BrockDSL/RDM_Jupyter_Workshop/raw/main/dsl_logo.png)\n",
    "\n",
    "# RDM in Jupyter: The importance of keeping your data reproducible\n",
    "\n",
    "\n",
    "This session will take a deep dive into some research data management best practices when developing in a Jupyter environment. The focus will be on ensuring reproducibility of analysis and bundling up code and data for use by others. This will be examined in two ways: moving your project to Github, and remixing/extending work that already exists. Participants will need a GitHub account for the session that can be created [here](https://github.com/join)."
   ]
  },
  {
   "cell_type": "markdown",
   "id": "b4b17bd9",
   "metadata": {},
   "source": [
    "# What is RDM?\n",
    "\n",
    "In this part of the workshop we'll begin by talking about what **RDM** is."
   ]
  },
  {
   "cell_type": "markdown",
   "id": "46979378",
   "metadata": {},
   "source": [
    "## Next!\n",
    "\n",
    "Now that we have an understanding of what **RDM** might mean for us, le'ts move on to our next section."
   ]
  }
 ],
 "metadata": {
  "kernelspec": {
   "display_name": "Python 3 (ipykernel)",
   "language": "python",
   "name": "python3"
  },
  "language_info": {
   "codemirror_mode": {
    "name": "ipython",
    "version": 3
   },
   "file_extension": ".py",
   "mimetype": "text/x-python",
   "name": "python",
   "nbconvert_exporter": "python",
   "pygments_lexer": "ipython3",
   "version": "3.9.13"
  }
 },
 "nbformat": 4,
 "nbformat_minor": 5
}
